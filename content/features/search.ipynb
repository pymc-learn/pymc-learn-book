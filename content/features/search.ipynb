{
 "cells": [
  {
   "cell_type": "markdown",
   "metadata": {},
   "source": [
    "# Searching your book\n",
    "\n",
    "It's possible to enable search in your book so that users can find the content\n",
    "they're looking for. This uses a nifty package called [lunr.js](https://github.com/olivernn/lunr.js/).\n",
    "\n",
    "To add search to your book, simple add the following entry to `_data/toc.yml`.\n",
    "\n",
    "```yaml\n",
    "- title: Search (whatever title you like)\n",
    "  search: true\n",
    "```\n",
    "\n",
    "The result will be a link in your Table of Contents that directs users to a search page.\n",
    "For example, click the `Search` link in the TOC of this demo book.\n",
    "\n",
    "## Customizing how much text is stored in search\n",
    "\n",
    "The Jupyter-Book search works by storing excerpts of text from each page. This\n",
    "ensures that the search process itself doesn't take too long. However, it also\n",
    "means that *some* of your content will not be searched, because it is past the\n",
    "cutoff point for the search cache.\n",
    "\n",
    "To modify the number of words that are indexed in your search, modify the following\n",
    "field in your `_config.yml` file:\n",
    "\n",
    "```yaml\n",
    "search_max_words_in_content : 100  # Number of words to be indexed per page\n",
    "```\n",
    "\n",
    "Be careful, if you have many pages, and you use lots of words per page, this can\n",
    "become very slow!\n"
   ]
  }
 ],
 "metadata": {
  "kernelspec": {
   "display_name": "Python 3",
   "language": "python",
   "name": "python3"
  },
  "language_info": {
   "codemirror_mode": {
    "name": "ipython",
    "version": 3
   },
   "file_extension": ".py",
   "mimetype": "text/x-python",
   "name": "python",
   "nbconvert_exporter": "python",
   "pygments_lexer": "ipython3",
   "version": "3.6.5"
  }
 },
 "nbformat": 4,
 "nbformat_minor": 2
}
